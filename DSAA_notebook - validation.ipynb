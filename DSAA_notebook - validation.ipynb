{
 "cells": [
  {
   "cell_type": "code",
   "execution_count": 1,
   "id": "2bdeb892",
   "metadata": {},
   "outputs": [],
   "source": [
    "import numpy as np\n",
    "import pandas as pd\n",
    "import torch\n",
    "import torch.nn as nn\n",
    "import torch.nn.functional as F\n",
    "import torch.optim as optim\n",
    "from torch.utils.data import Dataset, DataLoader\n",
    "from sklearn.model_selection import train_test_split\n",
    "from sklearn.metrics import f1_score\n",
    "import time"
   ]
  },
  {
   "cell_type": "markdown",
   "id": "58182e1b",
   "metadata": {},
   "source": [
    "# Loading and Organizing Data"
   ]
  },
  {
   "cell_type": "code",
   "execution_count": 2,
   "id": "b789a7d9",
   "metadata": {},
   "outputs": [],
   "source": [
    "data = pd.read_csv('train.csv')\n",
    "data.head()\n",
    "data_eval = pd.read_csv('test.csv')\n",
    "\n",
    "#all_ids = pd.read_csv('nodes/nodes.tsv',delimiter='\\t', usecols=['id'])\n",
    "total_nodes = 836625 #all_ids.max()['id'] + 1"
   ]
  },
  {
   "cell_type": "code",
   "execution_count": 3,
   "id": "3adca317",
   "metadata": {},
   "outputs": [],
   "source": [
    "train_data, test_data = train_test_split(data, test_size=0.2, random_state=42)"
   ]
  },
  {
   "cell_type": "markdown",
   "id": "19739e55",
   "metadata": {},
   "source": [
    "# Model"
   ]
  },
  {
   "cell_type": "code",
   "execution_count": 4,
   "id": "1e0d1464",
   "metadata": {},
   "outputs": [],
   "source": [
    "class MyNetwork(nn.Module):\n",
    "    def __init__(self, vocabulary_size):\n",
    "        super(MyNetwork, self).__init__()\n",
    "        self.embedding = nn.Embedding(vocabulary_size, 100) #best model = 80\n",
    "        self.relu = nn.ReLU()\n",
    "        \n",
    "        self.lin1_1 = nn.Linear(100, 50)\n",
    "        self.lin2_1 = nn.Linear(100, 50)\n",
    "        self.lin1_2 = nn.Linear(50, 25)\n",
    "        self.lin2_2 = nn.Linear(50, 25)\n",
    "        \n",
    "        self.lin_out1 = nn.Linear(50, 25)\n",
    "        self.lin_out2 = nn.Linear(25, 10)\n",
    "        self.lin_out3 = nn.Linear(10, 1)\n",
    "        self.sig = nn.Sigmoid()\n",
    "\n",
    "        \n",
    "    def forward(self, x1, x2):\n",
    "        x1 = self.embedding(x1)\n",
    "        x1 = self.lin1_1(x1)\n",
    "        x1 = self.relu(x1)\n",
    "        x1 = self.lin1_2(x1)\n",
    "        x1 = self.relu(x1)\n",
    "        \n",
    "        \n",
    "        x2 = self.embedding(x2)\n",
    "        x2 = self.lin2_1(x2)\n",
    "        x2 = self.relu(x2)\n",
    "        x2 = self.lin2_2(x2)\n",
    "        x2 = self.relu(x2)\n",
    "        \n",
    "        x = torch.cat((x1, x2), dim=1)\n",
    "        x = self.lin_out1(x)\n",
    "        x = self.relu(x)\n",
    "        x = self.lin_out2(x)\n",
    "        x = self.relu(x)\n",
    "        x = self.lin_out3(x)\n",
    "        x = self.sig(x)\n",
    "        \n",
    "        x = x.squeeze()\n",
    "        return x"
   ]
  },
  {
   "cell_type": "code",
   "execution_count": 5,
   "id": "0dd83f49",
   "metadata": {},
   "outputs": [],
   "source": [
    "class MyDataset(Dataset):\n",
    "    def __init__(self, data):\n",
    "        self.data = data\n",
    "        \n",
    "    def __len__(self):\n",
    "        return len(self.data)\n",
    "    \n",
    "    def __getitem__(self, i):\n",
    "        source_node = self.data.iloc[i]['id1']\n",
    "        target_node = self.data.iloc[i]['id2']\n",
    "        link = self.data.iloc[i]['label']\n",
    "        return source_node, target_node, link\n",
    "train_loader = DataLoader(MyDataset(train_data), batch_size=1024, shuffle=True)"
   ]
  },
  {
   "cell_type": "code",
   "execution_count": 6,
   "id": "d06148d8",
   "metadata": {},
   "outputs": [],
   "source": [
    "model = MyNetwork(total_nodes)\n",
    "criterion = nn.BCELoss()\n",
    "optimizer = optim.Adam(model.parameters(), lr=0.0075)\n",
    "device = torch.device('cuda:0' if torch.cuda.is_available() else 'cpu')"
   ]
  },
  {
   "cell_type": "code",
   "execution_count": 7,
   "id": "e3ea093c",
   "metadata": {},
   "outputs": [
    {
     "name": "stdout",
     "output_type": "stream",
     "text": [
      "Epoch: 0 0/758585 (0%) - Loss: 0.6970497965812683\n",
      "Epoch: 0 102400/758585 (13%) - Loss: 1.9896033336408436e-05\n",
      "Epoch: 0 204800/758585 (27%) - Loss: 1.9273200450697914e-05\n",
      "Epoch: 0 307200/758585 (40%) - Loss: 1.7723590644891374e-05\n",
      "Epoch: 0 409600/758585 (54%) - Loss: 3.4816077914001653e-06\n",
      "Epoch: 0 512000/758585 (67%) - Loss: 3.523344503264525e-06\n",
      "Epoch: 0 614400/758585 (81%) - Loss: 2.45422938860429e-06\n",
      "Epoch: 0 716800/758585 (94%) - Loss: 3.322026168461889e-05\n",
      "Epoch: 1 0/758585 (0%) - Loss: 2.0927167497575283e-05\n",
      "Epoch: 1 102400/758585 (13%) - Loss: 1.703457655821694e-06\n",
      "Epoch: 1 204800/758585 (27%) - Loss: 1.3549104096455267e-06\n",
      "Epoch: 1 307200/758585 (40%) - Loss: 5.7183926401194185e-05\n",
      "Epoch: 1 409600/758585 (54%) - Loss: 7.025753347988939e-06\n",
      "Epoch: 1 512000/758585 (67%) - Loss: 3.281152658018982e-06\n",
      "Epoch: 1 614400/758585 (81%) - Loss: 3.615905006881803e-05\n",
      "Epoch: 1 716800/758585 (94%) - Loss: 2.8207950890646316e-05\n"
     ]
    }
   ],
   "source": [
    "model.train()\n",
    "for epoch in range(0, 2):\n",
    "    for batch_idx, (id1, id2, link) in enumerate(train_loader):\n",
    "        id1, id2, link = id1.to(device), id2.to(device), link.to(device)\n",
    "        optimizer.zero_grad()\n",
    "        output = model(id1.type(torch.int), id2.type(torch.int))\n",
    "\n",
    "        loss = criterion(output, link.float())\n",
    "        loss.backward()\n",
    "        optimizer.step()\n",
    "        \n",
    "        if batch_idx % 100 == 0:\n",
    "            print(f'Epoch: {epoch} {batch_idx * len(id1)}/{len(train_loader.dataset)} ({100. * batch_idx / len(train_loader):.0f}%) - Loss: {loss.item()}')\n",
    " "
   ]
  },
  {
   "cell_type": "markdown",
   "id": "7ce97b13",
   "metadata": {},
   "source": [
    "# Validation"
   ]
  },
  {
   "cell_type": "code",
   "execution_count": 8,
   "id": "c11740d3",
   "metadata": {},
   "outputs": [],
   "source": [
    "with torch.no_grad():\n",
    "    y_pred = model(torch.tensor(np.array(test_data['id1'])).type(torch.int),torch.tensor(np.array(test_data['id2'])).type(torch.int))\n",
    "    "
   ]
  },
  {
   "cell_type": "code",
   "execution_count": 9,
   "id": "43690b5b",
   "metadata": {},
   "outputs": [
    {
     "name": "stdout",
     "output_type": "stream",
     "text": [
      "F1 Score: 0.9999770210028034\n"
     ]
    }
   ],
   "source": [
    "test_score = f1_score(test_data['label'], torch.round(y_pred))\n",
    "print(\"F1 Score:\", test_score)"
   ]
  },
  {
   "cell_type": "markdown",
   "id": "e247ad38",
   "metadata": {},
   "source": [
    "# Training in the entire training dataset"
   ]
  },
  {
   "cell_type": "code",
   "execution_count": 10,
   "id": "c330f173",
   "metadata": {},
   "outputs": [],
   "source": [
    "train_loader = DataLoader(MyDataset(data), batch_size=1024, shuffle=True)\n",
    "\n",
    "#model = MyNetwork(total_nodes)\n",
    "#criterion = nn.BCELoss()\n",
    "optimizer = optim.Adam(model.parameters(), lr=0.001)\n",
    "device = torch.device('cuda:0' if torch.cuda.is_available() else 'cpu')"
   ]
  },
  {
   "cell_type": "code",
   "execution_count": 11,
   "id": "8ece48bc",
   "metadata": {},
   "outputs": [
    {
     "name": "stdout",
     "output_type": "stream",
     "text": [
      "Epoch: 0 0/948232 (0%) - Loss: 1.967428886473499e-07\n",
      "Epoch: 0 102400/948232 (11%) - Loss: 3.530887795477611e-07\n",
      "Epoch: 0 204800/948232 (22%) - Loss: 4.79039954370819e-07\n",
      "Epoch: 0 307200/948232 (32%) - Loss: 7.262039503075357e-07\n",
      "Epoch: 0 409600/948232 (43%) - Loss: 9.249337722394557e-07\n",
      "Epoch: 0 512000/948232 (54%) - Loss: 3.131585515347979e-07\n",
      "Epoch: 0 614400/948232 (65%) - Loss: 1.063759214048332e-06\n",
      "Epoch: 0 716800/948232 (76%) - Loss: 1.7671978014277556e-07\n",
      "Epoch: 0 819200/948232 (86%) - Loss: 1.2997817577797832e-07\n",
      "Epoch: 0 921600/948232 (97%) - Loss: 2.5373151402163785e-07\n",
      "Epoch: 1 0/948232 (0%) - Loss: 2.082680481407806e-07\n",
      "Epoch: 1 102400/948232 (11%) - Loss: 1.1746323025363381e-07\n",
      "Epoch: 1 204800/948232 (22%) - Loss: 2.452962917232071e-07\n",
      "Epoch: 1 307200/948232 (32%) - Loss: 3.387694746948e-08\n",
      "Epoch: 1 409600/948232 (43%) - Loss: 3.521573432863079e-08\n",
      "Epoch: 1 512000/948232 (54%) - Loss: 1.3469446003000485e-07\n",
      "Epoch: 1 614400/948232 (65%) - Loss: 3.15485912949498e-08\n",
      "Epoch: 1 716800/948232 (76%) - Loss: 2.4321639102709014e-07\n",
      "Epoch: 1 819200/948232 (86%) - Loss: 1.5448804902007396e-07\n",
      "Epoch: 1 921600/948232 (97%) - Loss: 4.039621614992939e-08\n",
      "Elapsed time:\n",
      "527.2703020572662\n"
     ]
    }
   ],
   "source": [
    "start = time.time()\n",
    "model.train()\n",
    "for epoch in range(0, 2):\n",
    "    for batch_idx, (id1, id2, link) in enumerate(train_loader):\n",
    "        id1, id2, link = id1.to(device), id2.to(device), link.to(device)\n",
    "        optimizer.zero_grad()\n",
    "        output = model(id1.type(torch.int), id2.type(torch.int))\n",
    "\n",
    "        loss = criterion(output, link.float())\n",
    "        loss.backward()\n",
    "        optimizer.step()\n",
    "        \n",
    "        if batch_idx % 100 == 0:\n",
    "            print(f'Epoch: {epoch} {batch_idx * len(id1)}/{len(train_loader.dataset)} ({100. * batch_idx / len(train_loader):.0f}%) - Loss: {loss.item()}')\n",
    "            \n",
    "            \n",
    "print(\"Elapsed time:\")\n",
    "end = time.time()\n",
    "print(end - start)\n"
   ]
  },
  {
   "cell_type": "code",
   "execution_count": 12,
   "id": "778de5ce",
   "metadata": {},
   "outputs": [],
   "source": [
    "with torch.no_grad():\n",
    "    predictions = model(torch.tensor(np.array(data_eval['id1'])).type(torch.int),torch.tensor(np.array(data_eval['id2'])).type(torch.int))\n",
    "    "
   ]
  },
  {
   "cell_type": "code",
   "execution_count": 13,
   "id": "7ac62fc3",
   "metadata": {},
   "outputs": [],
   "source": [
    "submission = pd.read_csv('sample_submission.csv', delimiter=',')\n",
    "submission['label'] = torch.round(predictions)\n",
    "submission['label'] = submission['label'].astype('int')\n",
    "submission.to_csv('out_retrained.csv',index=False)"
   ]
  },
  {
   "cell_type": "code",
   "execution_count": 14,
   "id": "eb1d2d76",
   "metadata": {},
   "outputs": [],
   "source": [
    "torch.save(model.state_dict(), \"model_retrained.pt\")"
   ]
  },
  {
   "cell_type": "markdown",
   "id": "54adba55",
   "metadata": {},
   "source": [
    "# Refined Training"
   ]
  },
  {
   "cell_type": "code",
   "execution_count": 15,
   "id": "ec17a953",
   "metadata": {},
   "outputs": [
    {
     "name": "stdout",
     "output_type": "stream",
     "text": [
      "Epoch: 0 0/948232 (0%) - Loss: 4.970949873950303e-08\n",
      "Epoch: 0 102400/948232 (11%) - Loss: 2.3283064365386963e-10\n",
      "Epoch: 0 204800/948232 (22%) - Loss: 9.313227966600834e-10\n",
      "Epoch: 0 307200/948232 (32%) - Loss: 2.3283064365386963e-10\n",
      "Epoch: 0 409600/948232 (43%) - Loss: 1.0477382295093207e-09\n",
      "Epoch: 0 512000/948232 (54%) - Loss: 1.688022943646672e-09\n",
      "Epoch: 0 614400/948232 (65%) - Loss: 2.3283064365386963e-10\n",
      "Epoch: 0 716800/948232 (76%) - Loss: 5.820766091346741e-11\n",
      "Epoch: 0 819200/948232 (86%) - Loss: 1.4551917448812901e-09\n",
      "Epoch: 0 921600/948232 (97%) - Loss: 4.88945106624783e-09\n"
     ]
    }
   ],
   "source": [
    "optimizer = optim.Adam(model.parameters(), lr=0.0001)\n",
    "\n",
    "model.train()\n",
    "for epoch in range(0, 1):\n",
    "    for batch_idx, (id1, id2, link) in enumerate(train_loader):\n",
    "        id1, id2, link = id1.to(device), id2.to(device), link.to(device)\n",
    "        optimizer.zero_grad()\n",
    "        output = model(id1.type(torch.int), id2.type(torch.int))\n",
    "\n",
    "        loss = criterion(output, link.float())\n",
    "        loss.backward()\n",
    "        optimizer.step()\n",
    "        \n",
    "        if batch_idx % 100 == 0:\n",
    "            print(f'Epoch: {epoch} {batch_idx * len(id1)}/{len(train_loader.dataset)} ({100. * batch_idx / len(train_loader):.0f}%) - Loss: {loss.item()}')\n",
    "            \n",
    "            \n",
    "            "
   ]
  },
  {
   "cell_type": "code",
   "execution_count": 16,
   "id": "57c5e796",
   "metadata": {},
   "outputs": [],
   "source": [
    "with torch.no_grad():\n",
    "    predictions = model(torch.tensor(np.array(data_eval['id1'])).type(torch.int),torch.tensor(np.array(data_eval['id2'])).type(torch.int))\n",
    "    "
   ]
  },
  {
   "cell_type": "code",
   "execution_count": 17,
   "id": "e29793f3",
   "metadata": {},
   "outputs": [],
   "source": [
    "submission = pd.read_csv('sample_submission.csv', delimiter=',')\n",
    "submission['label'] = torch.round(predictions)\n",
    "submission['label'] = submission['label'].astype('int')\n",
    "submission.to_csv('out_retrained_refined.csv',index=False)"
   ]
  },
  {
   "cell_type": "code",
   "execution_count": 18,
   "id": "410d6115",
   "metadata": {},
   "outputs": [],
   "source": [
    "torch.save(model.state_dict(), \"model_retraine_refined.pt\")"
   ]
  },
  {
   "cell_type": "code",
   "execution_count": null,
   "id": "f6209ef1",
   "metadata": {},
   "outputs": [],
   "source": []
  }
 ],
 "metadata": {
  "kernelspec": {
   "display_name": "Python 3 (ipykernel)",
   "language": "python",
   "name": "python3"
  },
  "language_info": {
   "codemirror_mode": {
    "name": "ipython",
    "version": 3
   },
   "file_extension": ".py",
   "mimetype": "text/x-python",
   "name": "python",
   "nbconvert_exporter": "python",
   "pygments_lexer": "ipython3",
   "version": "3.9.6"
  }
 },
 "nbformat": 4,
 "nbformat_minor": 5
}
